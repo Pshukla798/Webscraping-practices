{
 "cells": [
  {
   "cell_type": "code",
   "execution_count": 1,
   "id": "ad935575-d600-40b6-8dd5-10cb690de3aa",
   "metadata": {},
   "outputs": [],
   "source": [
    "import requests\n",
    "from bs4 import BeautifulSoup as bs\n",
    "from urllib.request import urlopen as uReq\n",
    "import logging"
   ]
  },
  {
   "cell_type": "code",
   "execution_count": 48,
   "id": "8d28655d-3e3e-426d-b6d8-e840fc125fcc",
   "metadata": {},
   "outputs": [],
   "source": [
    "filp_url = \"https://www.flipkart.com/search?q=\" + \"iphone14pro\""
   ]
  },
  {
   "cell_type": "code",
   "execution_count": 3,
   "id": "166babf8-f5c5-40d5-aa23-98f5c5deb928",
   "metadata": {},
   "outputs": [
    {
     "data": {
      "text/plain": [
       "'https://www.flipkart.com/search?q=tshirts men'"
      ]
     },
     "execution_count": 36,
     "metadata": {},
     "output_type": "execute_result"
    }
   ],
   "source": [
    "filp_url"
   ]
  },
  {
   "cell_type": "code",
   "execution_count": 49,
   "id": "6005ec63-8d76-40dd-8fc4-e94ea2795d6b",
   "metadata": {},
   "outputs": [],
   "source": [
    "urlclint=uReq(filp_url)"
   ]
  },
  {
   "cell_type": "code",
   "execution_count": 5,
   "id": "4ec7871f-f25c-49d6-8c8e-d563ae2ba5fe",
   "metadata": {},
   "outputs": [
    {
     "data": {
      "text/plain": [
       "<http.client.HTTPResponse at 0x7fa9ec142b60>"
      ]
     },
     "execution_count": 39,
     "metadata": {},
     "output_type": "execute_result"
    }
   ],
   "source": [
    "urlclint"
   ]
  },
  {
   "cell_type": "code",
   "execution_count": 6,
   "id": "9f1a1aca-3e42-4e7b-8c1f-0cf31c7a1606",
   "metadata": {},
   "outputs": [],
   "source": [
    "flip_page = urlclint.read()"
   ]
  },
  {
   "cell_type": "code",
   "execution_count": 7,
   "id": "505834f2-f379-4956-a247-edf41b869a16",
   "metadata": {},
   "outputs": [],
   "source": [
    "flip_html = bs(flip_page,'html.parser')"
   ]
  },
  {
   "cell_type": "code",
   "execution_count": 8,
   "id": "14887c63-60f2-4142-a7c8-436d50575c9b",
   "metadata": {},
   "outputs": [
    {
     "data": {
      "text/plain": [
       "'www.flipkart.com/apple-iphone-13-pro-alpine-green-512-gb/p/itma7d23735b0adc?pid=MOBGC9VG6VG3TZMT&amp;lid=LSTMOBGC9VG6VG3TZMT8TP7HU&amp;marketplace=FLIPKART&amp;q=iphone13pro&amp;store=tyy%2F4io&amp;srno=s_1_9&amp;otracker=search&amp;fm=organic&amp;iid=81ffcfbf-ee6b-48c6-9457-2f60dbcc901b.MOBGC9VG6VG3TZMT.SEARCH&amp;ppt=None&amp;ppn=None&amp;ssid=51nfmwp9gg0000001688824103332&amp;qH=43c39800153648da'"
      ]
     },
     "execution_count": 42,
     "metadata": {},
     "output_type": "execute_result"
    }
   ],
   "source": [
    "\"www.flipkart.com\"+\"/apple-iphone-13-pro-alpine-green-512-gb/p/itma7d23735b0adc?pid=MOBGC9VG6VG3TZMT&amp;lid=LSTMOBGC9VG6VG3TZMT8TP7HU&amp;marketplace=FLIPKART&amp;q=iphone13pro&amp;store=tyy%2F4io&amp;srno=s_1_9&amp;otracker=search&amp;fm=organic&amp;iid=81ffcfbf-ee6b-48c6-9457-2f60dbcc901b.MOBGC9VG6VG3TZMT.SEARCH&amp;ppt=None&amp;ppn=None&amp;ssid=51nfmwp9gg0000001688824103332&amp;qH=43c39800153648da\""
   ]
  },
  {
   "cell_type": "code",
   "execution_count": 9,
   "id": "9fbe26e9-2526-4a74-abb7-b92bd2595c41",
   "metadata": {},
   "outputs": [],
   "source": [
    "bigbox = flip_html.findAll(\"div\" , {\"class\" :\"_1AtVbE col-12-12\"})"
   ]
  },
  {
   "cell_type": "code",
   "execution_count": 10,
   "id": "f3857ccc-a5c9-4443-b344-a3cf62429337",
   "metadata": {},
   "outputs": [
    {
     "data": {
      "text/plain": [
       "0"
      ]
     },
     "execution_count": 44,
     "metadata": {},
     "output_type": "execute_result"
    }
   ],
   "source": [
    "len(bigbox)"
   ]
  },
  {
   "cell_type": "code",
   "execution_count": 11,
   "id": "67dfc322-08f0-467b-8537-197338be6f52",
   "metadata": {},
   "outputs": [
    {
     "ename": "IndexError",
     "evalue": "list index out of range",
     "output_type": "error",
     "traceback": [
      "\u001b[0;31m---------------------------------------------------------------------------\u001b[0m",
      "\u001b[0;31mIndexError\u001b[0m                                Traceback (most recent call last)",
      "Cell \u001b[0;32mIn[45], line 1\u001b[0m\n\u001b[0;32m----> 1\u001b[0m prodlink\u001b[38;5;241m=\u001b[39m\u001b[38;5;124m\"\u001b[39m\u001b[38;5;124mhttps://www.flipkart.com\u001b[39m\u001b[38;5;124m\"\u001b[39m\u001b[38;5;241m+\u001b[39m \u001b[43mbigbox\u001b[49m\u001b[43m[\u001b[49m\u001b[38;5;241;43m3\u001b[39;49m\u001b[43m]\u001b[49m\u001b[38;5;241m.\u001b[39mdiv\u001b[38;5;241m.\u001b[39mdiv\u001b[38;5;241m.\u001b[39mdiv\u001b[38;5;241m.\u001b[39ma[\u001b[38;5;124m'\u001b[39m\u001b[38;5;124mhref\u001b[39m\u001b[38;5;124m'\u001b[39m]\n",
      "\u001b[0;31mIndexError\u001b[0m: list index out of range"
     ]
    }
   ],
   "source": [
    "prodlink=\"https://www.flipkart.com\"+ bigbox[3].div.div.div.a['href']"
   ]
  },
  {
   "cell_type": "code",
   "execution_count": 12,
   "id": "0f2287de-d5e1-4b06-bffc-2c49550f2c78",
   "metadata": {},
   "outputs": [],
   "source": [
    "prodreq = requests.get(prodlink)"
   ]
  },
  {
   "cell_type": "code",
   "execution_count": 13,
   "id": "7f8bf404-7714-4f50-9cb5-8aac1dcb6102",
   "metadata": {},
   "outputs": [
    {
     "data": {
      "text/plain": [
       "'https://www.flipkart.com/apple-iphone-14-pro-deep-purple-128-gb/p/itm75f73f63239fa?pid=MOBGHWFHYGAZRWFT&lid=LSTMOBGHWFHYGAZRWFT3ZMVDX&marketplace=FLIPKART&q=iphone14pro&store=tyy%2F4io&srno=s_1_2&otracker=search&fm=organic&iid=d5a3abf7-5213-4024-8468-db3e8ea74010.MOBGHWFHYGAZRWFT.SEARCH&ppt=None&ppn=None&ssid=60zxn5yq000000001688841164706&qH=1b57eea67220f216'"
      ]
     },
     "execution_count": 47,
     "metadata": {},
     "output_type": "execute_result"
    }
   ],
   "source": [
    "prodlink"
   ]
  },
  {
   "cell_type": "code",
   "execution_count": 14,
   "id": "b1a73db0-21ec-4a60-a0ba-e9daa94ab505",
   "metadata": {},
   "outputs": [],
   "source": [
    "prodhtml = bs(prodreq.text,'html.parser')"
   ]
  },
  {
   "cell_type": "code",
   "execution_count": 15,
   "id": "7bb0c424-7b03-4459-a97f-320eda006a3a",
   "metadata": {},
   "outputs": [],
   "source": [
    "del prodhtml[0:3]"
   ]
  },
  {
   "cell_type": "code",
   "execution_count": 16,
   "id": "3ab605f4-57ce-4cfd-9abb-4730c4111be0",
   "metadata": {},
   "outputs": [],
   "source": [
    "commbox = prodhtml.find_all(\"div\" ,{\"class\" : \"_16PBlm\"})"
   ]
  },
  {
   "cell_type": "code",
   "execution_count": 17,
   "id": "9a6f425f-13fd-4da8-a69b-33253fac4945",
   "metadata": {},
   "outputs": [
    {
     "data": {
      "text/plain": [
       "11"
      ]
     },
     "execution_count": 17,
     "metadata": {},
     "output_type": "execute_result"
    }
   ],
   "source": [
    "len(commbox)"
   ]
  },
  {
   "cell_type": "code",
   "execution_count": 18,
   "id": "bca5946e-7245-41c3-beff-7bf0445bb471",
   "metadata": {},
   "outputs": [
    {
     "data": {
      "text/plain": [
       "'Neelendra  Singh'"
      ]
     },
     "execution_count": 18,
     "metadata": {},
     "output_type": "execute_result"
    }
   ],
   "source": [
    "commbox[0].div.div.find_all('p',{\"class\":\"_2V5EHH\"})[0].text"
   ]
  },
  {
   "cell_type": "code",
   "execution_count": 19,
   "id": "add55443-f0bd-4a8b-b258-5d1e654bf6bb",
   "metadata": {},
   "outputs": [
    {
     "name": "stdout",
     "output_type": "stream",
     "text": [
      "Neelendra  Singh\n",
      "Karthik Kommoju\n",
      "Salman khan\n",
      "Ashutosh Gupta\n",
      "Subham Roy\n",
      "Pratik Raj\n",
      "Flipkart Customer\n",
      "Rohith Menon\n",
      "Rishabh Srivastava\n",
      "Flipkart Customer\n"
     ]
    },
    {
     "ename": "AttributeError",
     "evalue": "'NoneType' object has no attribute 'div'",
     "output_type": "error",
     "traceback": [
      "\u001b[0;31m---------------------------------------------------------------------------\u001b[0m",
      "\u001b[0;31mAttributeError\u001b[0m                            Traceback (most recent call last)",
      "Cell \u001b[0;32mIn[19], line 2\u001b[0m\n\u001b[1;32m      1\u001b[0m \u001b[38;5;28;01mfor\u001b[39;00m i \u001b[38;5;129;01min\u001b[39;00m commbox:\n\u001b[0;32m----> 2\u001b[0m     \u001b[38;5;28mprint\u001b[39m(\u001b[43mi\u001b[49m\u001b[38;5;241;43m.\u001b[39;49m\u001b[43mdiv\u001b[49m\u001b[38;5;241;43m.\u001b[39;49m\u001b[43mdiv\u001b[49m\u001b[38;5;241m.\u001b[39mfind_all(\u001b[38;5;124m'\u001b[39m\u001b[38;5;124mp\u001b[39m\u001b[38;5;124m'\u001b[39m,{\u001b[38;5;124m\"\u001b[39m\u001b[38;5;124mclass\u001b[39m\u001b[38;5;124m\"\u001b[39m:\u001b[38;5;124m\"\u001b[39m\u001b[38;5;124m_2V5EHH\u001b[39m\u001b[38;5;124m\"\u001b[39m})[\u001b[38;5;241m0\u001b[39m]\u001b[38;5;241m.\u001b[39mtext)\n",
      "\u001b[0;31mAttributeError\u001b[0m: 'NoneType' object has no attribute 'div'"
     ]
    }
   ],
   "source": [
    "for i in commbox:\n",
    "    print(i.div.div.find_all('p',{\"class\":\"_2V5EHH\"})[0].text)"
   ]
  },
  {
   "cell_type": "code",
   "execution_count": 20,
   "id": "3ef8a8ef-2bab-4bb4-88e5-52d608e6415e",
   "metadata": {},
   "outputs": [
    {
     "data": {
      "text/plain": [
       "'5'"
      ]
     },
     "execution_count": 20,
     "metadata": {},
     "output_type": "execute_result"
    }
   ],
   "source": [
    "commbox[0].div.div.div.div.text"
   ]
  },
  {
   "cell_type": "code",
   "execution_count": 21,
   "id": "25988e70-1179-4ce8-9662-2f67150d2261",
   "metadata": {},
   "outputs": [
    {
     "name": "stdout",
     "output_type": "stream",
     "text": [
      "5\n",
      "5\n",
      "5\n",
      "5\n",
      "5\n",
      "5\n",
      "5\n",
      "5\n",
      "5\n",
      "5\n"
     ]
    },
    {
     "ename": "AttributeError",
     "evalue": "'NoneType' object has no attribute 'div'",
     "output_type": "error",
     "traceback": [
      "\u001b[0;31m---------------------------------------------------------------------------\u001b[0m",
      "\u001b[0;31mAttributeError\u001b[0m                            Traceback (most recent call last)",
      "Cell \u001b[0;32mIn[21], line 2\u001b[0m\n\u001b[1;32m      1\u001b[0m \u001b[38;5;28;01mfor\u001b[39;00m i \u001b[38;5;129;01min\u001b[39;00m commbox:\n\u001b[0;32m----> 2\u001b[0m     \u001b[38;5;28mprint\u001b[39m(\u001b[43mi\u001b[49m\u001b[38;5;241;43m.\u001b[39;49m\u001b[43mdiv\u001b[49m\u001b[38;5;241;43m.\u001b[39;49m\u001b[43mdiv\u001b[49m\u001b[38;5;241m.\u001b[39mdiv\u001b[38;5;241m.\u001b[39mdiv\u001b[38;5;241m.\u001b[39mtext)\n",
      "\u001b[0;31mAttributeError\u001b[0m: 'NoneType' object has no attribute 'div'"
     ]
    }
   ],
   "source": [
    "for i in commbox:\n",
    "    print(i.div.div.div.div.text)"
   ]
  },
  {
   "cell_type": "code",
   "execution_count": 26,
   "id": "b49084a1-9497-4114-a931-cfc66fdd627e",
   "metadata": {},
   "outputs": [
    {
     "data": {
      "text/plain": [
       "'Just wow!'"
      ]
     },
     "execution_count": 26,
     "metadata": {},
     "output_type": "execute_result"
    }
   ],
   "source": [
    "commbox[0].div.div.div.p.text"
   ]
  },
  {
   "cell_type": "code",
   "execution_count": 30,
   "id": "ba14612c-d687-46e9-a46f-e6e4058dd289",
   "metadata": {},
   "outputs": [
    {
     "name": "stdout",
     "output_type": "stream",
     "text": [
      "Just wow!\n",
      "Classy product\n",
      "Brilliant\n",
      "Great product\n",
      "Must buy!\n",
      "Best in the market!\n",
      "Worth every penny\n",
      "Simply awesome\n",
      "Highly recommended\n",
      "Highly recommended\n"
     ]
    },
    {
     "ename": "AttributeError",
     "evalue": "'NoneType' object has no attribute 'div'",
     "output_type": "error",
     "traceback": [
      "\u001b[0;31m---------------------------------------------------------------------------\u001b[0m",
      "\u001b[0;31mAttributeError\u001b[0m                            Traceback (most recent call last)",
      "Cell \u001b[0;32mIn[30], line 2\u001b[0m\n\u001b[1;32m      1\u001b[0m \u001b[38;5;28;01mfor\u001b[39;00m i \u001b[38;5;129;01min\u001b[39;00m commbox:\n\u001b[0;32m----> 2\u001b[0m     \u001b[38;5;28mprint\u001b[39m(\u001b[43mi\u001b[49m\u001b[38;5;241;43m.\u001b[39;49m\u001b[43mdiv\u001b[49m\u001b[38;5;241;43m.\u001b[39;49m\u001b[43mdiv\u001b[49m\u001b[38;5;241m.\u001b[39mp\u001b[38;5;241m.\u001b[39mtext)\n",
      "\u001b[0;31mAttributeError\u001b[0m: 'NoneType' object has no attribute 'div'"
     ]
    }
   ],
   "source": [
    "for i in commbox:\n",
    "    print(i.div.div.p.text)"
   ]
  },
  {
   "cell_type": "code",
   "execution_count": 25,
   "id": "edb5df61-9a50-4a03-9252-74ef7ce2343d",
   "metadata": {},
   "outputs": [
    {
     "data": {
      "text/plain": [
       "'https://www.flipkart.com/apple-iphone-14-pro-deep-purple-128-gb/p/itm75f73f63239fa?pid=MOBGHWFHYGAZRWFT&lid=LSTMOBGHWFHYGAZRWFT3ZMVDX&marketplace=FLIPKART&q=iphone14pro&store=tyy%2F4io&srno=s_1_2&otracker=search&fm=organic&iid=d5a3abf7-5213-4024-8468-db3e8ea74010.MOBGHWFHYGAZRWFT.SEARCH&ppt=None&ppn=None&ssid=60zxn5yq000000001688841164706&qH=1b57eea67220f216'"
      ]
     },
     "execution_count": 25,
     "metadata": {},
     "output_type": "execute_result"
    }
   ],
   "source": [
    "prodlink"
   ]
  },
  {
   "cell_type": "code",
   "execution_count": 33,
   "id": "9ce0142e-6b7b-457f-982a-368347f4313c",
   "metadata": {},
   "outputs": [
    {
     "data": {
      "text/plain": [
       "'Worth the Money✨Brilliant life batteryThe wallpaper and customisation updates are awesomeThe camera clicks a very clear picEkart made a super fast delivery👍Thanks Ekart!'"
      ]
     },
     "execution_count": 33,
     "metadata": {},
     "output_type": "execute_result"
    }
   ],
   "source": [
    "commbox[0].div.div.find_all('div',{\"class\" : ''})[0].div.text"
   ]
  },
  {
   "cell_type": "code",
   "execution_count": null,
   "id": "dae08828-6a1a-4b69-8715-2c29f50d150f",
   "metadata": {},
   "outputs": [
    {
     "name": "stdout",
     "output_type": "stream",
     "text": [
      "Worth the Money✨Brilliant life batteryThe wallpaper and customisation updates are awesomeThe camera clicks a very clear picEkart made a super fast delivery👍Thanks Ekart!\n",
      "iPhone 14 pro is definitely a premium device with exceptional camera and solid build quality with excellent design. The phone definitely weighs more compared to regular 13 and 14. The dynamic island is useful in many cases and some apps are making use of this feature really well with great animations especially swiggy. Loved the in hand feel of the mobile. Compact in size and easy to use with one hand\n",
      "Just WOW!! Best in all segment!!\n",
      "Camera Awesome and overall mobile look is Cool\n",
      "Awesome 😎🍫🥰\n",
      "Superb performance and well.\n",
      "CAMERA IS SUPERB\n",
      "Best ❤️🔥🔥\n",
      "Just Awesome Best phone forever and Good Gaming Experience and Battery life .Specially Camera superb ❤️❤️❤️\n",
      "Excellent product awesome camera super fast\n"
     ]
    },
    {
     "ename": "AttributeError",
     "evalue": "'NoneType' object has no attribute 'div'",
     "output_type": "error",
     "traceback": [
      "\u001b[0;31m---------------------------------------------------------------------------\u001b[0m",
      "\u001b[0;31mAttributeError\u001b[0m                            Traceback (most recent call last)",
      "Cell \u001b[0;32mIn[34], line 2\u001b[0m\n\u001b[1;32m      1\u001b[0m \u001b[38;5;28;01mfor\u001b[39;00m i \u001b[38;5;129;01min\u001b[39;00m commbox:\n\u001b[0;32m----> 2\u001b[0m     \u001b[38;5;28mprint\u001b[39m(\u001b[43mi\u001b[49m\u001b[38;5;241;43m.\u001b[39;49m\u001b[43mdiv\u001b[49m\u001b[38;5;241;43m.\u001b[39;49m\u001b[43mdiv\u001b[49m\u001b[38;5;241m.\u001b[39mfind_all(\u001b[38;5;124m'\u001b[39m\u001b[38;5;124mdiv\u001b[39m\u001b[38;5;124m'\u001b[39m,{\u001b[38;5;124m\"\u001b[39m\u001b[38;5;124mclass\u001b[39m\u001b[38;5;124m\"\u001b[39m : \u001b[38;5;124m'\u001b[39m\u001b[38;5;124m'\u001b[39m})[\u001b[38;5;241m0\u001b[39m]\u001b[38;5;241m.\u001b[39mdiv\u001b[38;5;241m.\u001b[39mtext)\n",
      "\u001b[0;31mAttributeError\u001b[0m: 'NoneType' object has no attribute 'div'"
     ]
    }
   ],
   "source": [
    "for i in commbox:\n",
    "    print(i.div.div.find_all('div',{\"class\" : ''})[0].div.text)"
   ]
  },
  {
   "cell_type": "code",
   "execution_count": 35,
   "id": "44b02449-50d1-456b-a3df-4cd66ba70fe4",
   "metadata": {},
   "outputs": [],
   "source": [
    "del bigbox[0:3]"
   ]
  },
  {
   "cell_type": "code",
   "execution_count": 36,
   "id": "159ef3ef-8cfc-4ccb-9f24-3b44ebeb591b",
   "metadata": {},
   "outputs": [
    {
     "name": "stdout",
     "output_type": "stream",
     "text": [
      "https://www.flipkart.com/apple-iphone-14-pro-deep-purple-128-gb/p/itm75f73f63239fa?pid=MOBGHWFHYGAZRWFT&lid=LSTMOBGHWFHYGAZRWFT3ZMVDX&marketplace=FLIPKART&q=iphone14pro&store=tyy%2F4io&srno=s_1_2&otracker=search&fm=organic&iid=d2c882c8-a39a-4dfd-b96b-2b748c1beb8c.MOBGHWFHYGAZRWFT.SEARCH&ppt=None&ppn=None&ssid=luyk81km3k0000001688835218296&qH=1b57eea67220f216\n",
      "https://www.flipkart.com/apple-iphone-14-pro-deep-purple-256-gb/p/itmfbeb0684432d7?pid=MOBGHWFHR4ZYUPH5&lid=LSTMOBGHWFHR4ZYUPH5XVPV0K&marketplace=FLIPKART&q=iphone14pro&store=tyy%2F4io&srno=s_1_3&otracker=search&fm=organic&iid=d2c882c8-a39a-4dfd-b96b-2b748c1beb8c.MOBGHWFHR4ZYUPH5.SEARCH&ppt=None&ppn=None&ssid=luyk81km3k0000001688835218296&qH=1b57eea67220f216\n",
      "https://www.flipkart.com/apple-iphone-14-pro-silver-256-gb/p/itm769b7792c9a08?pid=MOBGHWFHW5BBUGP9&lid=LSTMOBGHWFHW5BBUGP99CWH4V&marketplace=FLIPKART&q=iphone14pro&store=tyy%2F4io&srno=s_1_4&otracker=search&fm=organic&iid=d2c882c8-a39a-4dfd-b96b-2b748c1beb8c.MOBGHWFHW5BBUGP9.SEARCH&ppt=None&ppn=None&ssid=luyk81km3k0000001688835218296&qH=1b57eea67220f216\n",
      "https://www.flipkart.com/apple-iphone-14-pro-space-black-256-gb/p/itmbf9b9d0d108a7?pid=MOBGHWFHMSKYWVTR&lid=LSTMOBGHWFHMSKYWVTRKZV7U3&marketplace=FLIPKART&q=iphone14pro&store=tyy%2F4io&srno=s_1_5&otracker=search&fm=organic&iid=d2c882c8-a39a-4dfd-b96b-2b748c1beb8c.MOBGHWFHMSKYWVTR.SEARCH&ppt=None&ppn=None&ssid=luyk81km3k0000001688835218296&qH=1b57eea67220f216\n",
      "https://www.flipkart.com/apple-iphone-14-pro-silver-128-gb/p/itm6933eb5fb30fb?pid=MOBGHWFHGQGUHWRK&lid=LSTMOBGHWFHGQGUHWRKGU5JN5&marketplace=FLIPKART&q=iphone14pro&store=tyy%2F4io&srno=s_1_6&otracker=search&fm=organic&iid=d2c882c8-a39a-4dfd-b96b-2b748c1beb8c.MOBGHWFHGQGUHWRK.SEARCH&ppt=None&ppn=None&ssid=luyk81km3k0000001688835218296&qH=1b57eea67220f216\n",
      "https://www.flipkart.com/apple-iphone-14-pro-gold-256-gb/p/itm9b3566b996597?pid=MOBGHWFHGGXGCRRP&lid=LSTMOBGHWFHGGXGCRRPYZW3DP&marketplace=FLIPKART&q=iphone14pro&store=tyy%2F4io&srno=s_1_7&otracker=search&fm=organic&iid=d2c882c8-a39a-4dfd-b96b-2b748c1beb8c.MOBGHWFHGGXGCRRP.SEARCH&ppt=None&ppn=None&ssid=luyk81km3k0000001688835218296&qH=1b57eea67220f216\n",
      "https://www.flipkart.com/apple-iphone-14-pro-gold-128-gb/p/itme5895e593585d?pid=MOBGHWFHXPC3NFFY&lid=LSTMOBGHWFHXPC3NFFYC5Y9VU&marketplace=FLIPKART&q=iphone14pro&store=tyy%2F4io&srno=s_1_8&otracker=search&fm=organic&iid=d2c882c8-a39a-4dfd-b96b-2b748c1beb8c.MOBGHWFHXPC3NFFY.SEARCH&ppt=None&ppn=None&ssid=luyk81km3k0000001688835218296&qH=1b57eea67220f216\n",
      "https://www.flipkart.com/apple-iphone-14-pro-gold-1-tb/p/itm02b2bc7f8c906?pid=MOBGHWFHT5RCQ9QG&lid=LSTMOBGHWFHT5RCQ9QGQBAXQ9&marketplace=FLIPKART&q=iphone14pro&store=tyy%2F4io&srno=s_1_9&otracker=search&fm=organic&iid=d2c882c8-a39a-4dfd-b96b-2b748c1beb8c.MOBGHWFHT5RCQ9QG.SEARCH&ppt=None&ppn=None&ssid=luyk81km3k0000001688835218296&qH=1b57eea67220f216\n",
      "https://www.flipkart.com/apple-iphone-14-pro-gold-512-gb/p/itm2baef06bbd342?pid=MOBGHWFHN8TWTXJA&lid=LSTMOBGHWFHN8TWTXJA9FZGC7&marketplace=FLIPKART&q=iphone14pro&store=tyy%2F4io&srno=s_1_10&otracker=search&fm=organic&iid=d2c882c8-a39a-4dfd-b96b-2b748c1beb8c.MOBGHWFHN8TWTXJA.SEARCH&ppt=None&ppn=None&ssid=luyk81km3k0000001688835218296&qH=1b57eea67220f216\n",
      "https://www.flipkart.com/apple-iphone-14-pro-space-black-512-gb/p/itm67843bf67dbae?pid=MOBGHWFHH9JVZK6Z&lid=LSTMOBGHWFHH9JVZK6Z1CB0XT&marketplace=FLIPKART&q=iphone14pro&store=tyy%2F4io&srno=s_1_11&otracker=search&fm=organic&iid=d2c882c8-a39a-4dfd-b96b-2b748c1beb8c.MOBGHWFHH9JVZK6Z.SEARCH&ppt=None&ppn=None&ssid=luyk81km3k0000001688835218296&qH=1b57eea67220f216\n",
      "https://www.flipkart.com/apple-iphone-14-pro-silver-512-gb/p/itm7e2568f4b25ad?pid=MOBGHWFHYTAUDTNG&lid=LSTMOBGHWFHYTAUDTNGS2ZXK3&marketplace=FLIPKART&q=iphone14pro&store=tyy%2F4io&srno=s_1_12&otracker=search&fm=organic&iid=d2c882c8-a39a-4dfd-b96b-2b748c1beb8c.MOBGHWFHYTAUDTNG.SEARCH&ppt=None&ppn=None&ssid=luyk81km3k0000001688835218296&qH=1b57eea67220f216\n",
      "https://www.flipkart.com/apple-iphone-14-pro-space-black-1-tb/p/itm753a220ef7086?pid=MOBGHWFHYNZZ7RBP&lid=LSTMOBGHWFHYNZZ7RBPLYLBZW&marketplace=FLIPKART&q=iphone14pro&store=tyy%2F4io&srno=s_1_13&otracker=search&fm=organic&iid=d2c882c8-a39a-4dfd-b96b-2b748c1beb8c.MOBGHWFHYNZZ7RBP.SEARCH&ppt=None&ppn=None&ssid=luyk81km3k0000001688835218296&qH=1b57eea67220f216\n",
      "https://www.flipkart.com/apple-iphone-14-pro-deep-purple-512-gb/p/itm8b019143e0c10?pid=MOBGHWFH9YZ9HBFP&lid=LSTMOBGHWFH9YZ9HBFPI1L29L&marketplace=FLIPKART&q=iphone14pro&store=tyy%2F4io&srno=s_1_14&otracker=search&fm=organic&iid=d2c882c8-a39a-4dfd-b96b-2b748c1beb8c.MOBGHWFH9YZ9HBFP.SEARCH&ppt=None&ppn=None&ssid=luyk81km3k0000001688835218296&qH=1b57eea67220f216\n",
      "https://www.flipkart.com/apple-iphone-14-pro-silver-1-tb/p/itm87b6f4daf8cd0?pid=MOBGHWFHSY5K7VGA&lid=LSTMOBGHWFHSY5K7VGAM3MJJG&marketplace=FLIPKART&q=iphone14pro&store=tyy%2F4io&srno=s_1_15&otracker=search&fm=organic&iid=d2c882c8-a39a-4dfd-b96b-2b748c1beb8c.MOBGHWFHSY5K7VGA.SEARCH&ppt=None&ppn=None&ssid=luyk81km3k0000001688835218296&qH=1b57eea67220f216\n",
      "https://www.flipkart.com/apple-iphone-14-pro-max-deep-purple-128-gb/p/itm5256789ae40c7?pid=MOBGHWFHCWHXRZZJ&lid=LSTMOBGHWFHCWHXRZZJ9EECH5&marketplace=FLIPKART&q=iphone14pro&store=tyy%2F4io&srno=s_1_16&otracker=search&fm=organic&iid=d2c882c8-a39a-4dfd-b96b-2b748c1beb8c.MOBGHWFHCWHXRZZJ.SEARCH&ppt=None&ppn=None&ssid=luyk81km3k0000001688835218296&qH=1b57eea67220f216\n",
      "https://www.flipkart.com/apple-iphone-14-pro-max-gold-128-gb/p/itm898d084d8a65f?pid=MOBGHWFHGDS3H5S9&lid=LSTMOBGHWFHGDS3H5S9AM0G7C&marketplace=FLIPKART&q=iphone14pro&store=tyy%2F4io&spotlightTagId=FkPickId_tyy%2F4io&srno=s_1_17&otracker=search&fm=organic&iid=d2c882c8-a39a-4dfd-b96b-2b748c1beb8c.MOBGHWFHGDS3H5S9.SEARCH&ppt=None&ppn=None&ssid=luyk81km3k0000001688835218296&qH=1b57eea67220f216\n",
      "https://www.flipkart.com/apple-iphone-14-pro-max-space-black-128-gb/p/itm9aed88fe43457?pid=MOBGHWFHCNVGGMZF&lid=LSTMOBGHWFHCNVGGMZFEEIZN3&marketplace=FLIPKART&q=iphone14pro&store=tyy%2F4io&srno=s_1_18&otracker=search&fm=organic&iid=d2c882c8-a39a-4dfd-b96b-2b748c1beb8c.MOBGHWFHCNVGGMZF.SEARCH&ppt=None&ppn=None&ssid=luyk81km3k0000001688835218296&qH=1b57eea67220f216\n",
      "https://www.flipkart.com/apple-iphone-14-pro-max-silver-128-gb/p/itmb520f3bdf56d5?pid=MOBGHWFHXFGNUZJA&lid=LSTMOBGHWFHXFGNUZJAMNTG4B&marketplace=FLIPKART&q=iphone14pro&store=tyy%2F4io&srno=s_1_19&otracker=search&fm=organic&iid=d2c882c8-a39a-4dfd-b96b-2b748c1beb8c.MOBGHWFHXFGNUZJA.SEARCH&ppt=None&ppn=None&ssid=luyk81km3k0000001688835218296&qH=1b57eea67220f216\n",
      "https://www.flipkart.com/apple-iphone-14-pro-max-gold-512-gb/p/itm6ab4bc3095a65?pid=MOBGHWFHZAXBEPXV&lid=LSTMOBGHWFHZAXBEPXVDYYT8X&marketplace=FLIPKART&q=iphone14pro&store=tyy%2F4io&srno=s_1_20&otracker=search&fm=organic&iid=d2c882c8-a39a-4dfd-b96b-2b748c1beb8c.MOBGHWFHZAXBEPXV.SEARCH&ppt=None&ppn=None&ssid=luyk81km3k0000001688835218296&qH=1b57eea67220f216\n",
      "https://www.flipkart.com/apple-iphone-14-pro-max-space-black-512-gb/p/itm68fe95bfc58dd?pid=MOBGHWFHSTGZHYAT&lid=LSTMOBGHWFHSTGZHYATDCZBHP&marketplace=FLIPKART&q=iphone14pro&store=tyy%2F4io&srno=s_1_21&otracker=search&fm=organic&iid=d2c882c8-a39a-4dfd-b96b-2b748c1beb8c.MOBGHWFHSTGZHYAT.SEARCH&ppt=None&ppn=None&ssid=luyk81km3k0000001688835218296&qH=1b57eea67220f216\n",
      "https://www.flipkart.com/apple-iphone-14-pro-max-silver-512-gb/p/itm450e8757732f9?pid=MOBGHWFHEQA2GSCS&lid=LSTMOBGHWFHEQA2GSCSPHDU4P&marketplace=FLIPKART&q=iphone14pro&store=tyy%2F4io&spotlightTagId=TrendingId_tyy%2F4io&srno=s_1_22&otracker=search&fm=organic&iid=d2c882c8-a39a-4dfd-b96b-2b748c1beb8c.MOBGHWFHEQA2GSCS.SEARCH&ppt=None&ppn=None&ssid=luyk81km3k0000001688835218296&qH=1b57eea67220f216\n",
      "https://www.flipkart.com/apple-iphone-14-pro-max-gold-256-gb/p/itmd21bfa03be8c2?pid=MOBGHWFHZVHJM4HZ&lid=LSTMOBGHWFHZVHJM4HZFPEJ62&marketplace=FLIPKART&q=iphone14pro&store=tyy%2F4io&srno=s_1_23&otracker=search&fm=organic&iid=d2c882c8-a39a-4dfd-b96b-2b748c1beb8c.MOBGHWFHZVHJM4HZ.SEARCH&ppt=None&ppn=None&ssid=luyk81km3k0000001688835218296&qH=1b57eea67220f216\n",
      "https://www.flipkart.com/apple-iphone-14-pro-deep-purple-1-tb/p/itm7c1a62ebc5ecc?pid=MOBGHWFHEUDJH7TG&lid=LSTMOBGHWFHEUDJH7TGHCCLIH&marketplace=FLIPKART&q=iphone14pro&store=tyy%2F4io&srno=s_1_24&otracker=search&fm=organic&iid=d2c882c8-a39a-4dfd-b96b-2b748c1beb8c.MOBGHWFHEUDJH7TG.SEARCH&ppt=None&ppn=None&ssid=luyk81km3k0000001688835218296&qH=1b57eea67220f216\n"
     ]
    },
    {
     "ename": "AttributeError",
     "evalue": "'NoneType' object has no attribute 'a'",
     "output_type": "error",
     "traceback": [
      "\u001b[0;31m---------------------------------------------------------------------------\u001b[0m",
      "\u001b[0;31mAttributeError\u001b[0m                            Traceback (most recent call last)",
      "Cell \u001b[0;32mIn[36], line 2\u001b[0m\n\u001b[1;32m      1\u001b[0m \u001b[38;5;28;01mfor\u001b[39;00m i \u001b[38;5;129;01min\u001b[39;00m bigbox:\n\u001b[0;32m----> 2\u001b[0m     href \u001b[38;5;241m=\u001b[39m \u001b[43mi\u001b[49m\u001b[38;5;241;43m.\u001b[39;49m\u001b[43mdiv\u001b[49m\u001b[38;5;241;43m.\u001b[39;49m\u001b[43mdiv\u001b[49m\u001b[38;5;241;43m.\u001b[39;49m\u001b[43mdiv\u001b[49m\u001b[38;5;241;43m.\u001b[39;49m\u001b[43ma\u001b[49m[\u001b[38;5;124m'\u001b[39m\u001b[38;5;124mhref\u001b[39m\u001b[38;5;124m'\u001b[39m]\n\u001b[1;32m      3\u001b[0m     \u001b[38;5;28mprint\u001b[39m(\u001b[38;5;124m\"\u001b[39m\u001b[38;5;124mhttps://www.flipkart.com\u001b[39m\u001b[38;5;124m\"\u001b[39m \u001b[38;5;241m+\u001b[39m href)\n",
      "\u001b[0;31mAttributeError\u001b[0m: 'NoneType' object has no attribute 'a'"
     ]
    }
   ],
   "source": [
    "for i in bigbox:\n",
    "    href = i.div.div.div.a['href']\n",
    "    print(\"https://www.flipkart.com\" + href)"
   ]
  },
  {
   "cell_type": "code",
   "execution_count": null,
   "id": "4d4737f2-9c46-44ed-a95f-5c1eb9670d3d",
   "metadata": {},
   "outputs": [],
   "source": []
  }
 ],
 "metadata": {
  "kernelspec": {
   "display_name": "Python 3 (ipykernel)",
   "language": "python",
   "name": "python3"
  },
  "language_info": {
   "codemirror_mode": {
    "name": "ipython",
    "version": 3
   },
   "file_extension": ".py",
   "mimetype": "text/x-python",
   "name": "python",
   "nbconvert_exporter": "python",
   "pygments_lexer": "ipython3",
   "version": "3.10.8"
  }
 },
 "nbformat": 4,
 "nbformat_minor": 5
}
